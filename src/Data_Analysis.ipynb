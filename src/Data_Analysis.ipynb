{
 "cells": [
  {
   "cell_type": "markdown",
   "metadata": {},
   "source": [
    "# Step 2: Analysis\n",
    "You will conduct a very basic visual analysis. The analysis for this homework is to graph specific subsets of the data as a timeseries. You will produce three different graphs."
   ]
  },
  {
   "cell_type": "markdown",
   "metadata": {},
   "source": [
    "## 2.i. Maximum Average and Minimum Average\n",
    "The first graph should contain time series for the articles that have the highest average monthly page requests and the lowest average monthly page requests for desktop access and mobile access. Your graph should have four lines (max desktop, min desktop, max mobile, min mobile).\n",
    "- We start by importing all the necessary libraries"
   ]
  },
  {
   "cell_type": "code",
   "execution_count": 1,
   "metadata": {},
   "outputs": [],
   "source": [
    "import json\n",
    "import os\n",
    "import pandas as pd\n",
    "import numpy as np\n",
    "import matplotlib.pyplot as plt"
   ]
  },
  {
   "cell_type": "markdown",
   "metadata": {},
   "source": [
    "- Defining the constants to be used throughout the program"
   ]
  },
  {
   "cell_type": "code",
   "execution_count": 2,
   "metadata": {},
   "outputs": [],
   "source": [
    "DATA = \"data\"\n",
    "MOBILE_ACCESS_DATA_FILENAME = \"academy_monthly_mobile_201507-202309.json\"\n",
    "DESKTOP_ACCESS_DATA_FILENAME = \"academy_monthly_desktop_201507-202309.json\"\n",
    "RELATIVE_PATH_NOTATION = \"..\"\n",
    "RESULTS = \"results\""
   ]
  },
  {
   "cell_type": "markdown",
   "metadata": {},
   "source": [
    "- We read and load JSON data files for desktop and mobile access, then convert them into dataframes for ease of analysis."
   ]
  },
  {
   "cell_type": "code",
   "execution_count": 3,
   "metadata": {},
   "outputs": [],
   "source": [
    "desktop_data = open(os.path.join(RELATIVE_PATH_NOTATION, DATA, DESKTOP_ACCESS_DATA_FILENAME))\n",
    "mobile_data = open(os.path.join(RELATIVE_PATH_NOTATION, DATA, MOBILE_ACCESS_DATA_FILENAME))\n",
    "\n",
    "desktop_json = json.load(desktop_data)\n",
    "mobile_json = json.load(mobile_data)\n",
    "desktop_df = pd.json_normalize(desktop_json)\n",
    "mobile_df = pd.json_normalize(mobile_json)"
   ]
  },
  {
   "cell_type": "markdown",
   "metadata": {},
   "source": [
    "- We create a function to compute the mean views for all articles, and subsequently identify the article names with the lowest and highest average views by applying a filter based on the desired access type.\n",
    "\n",
    "- Also, we keep only the essential elements, namely the timestamp, article title, and page views."
   ]
  },
  {
   "cell_type": "code",
   "execution_count": 4,
   "metadata": {},
   "outputs": [],
   "source": [
    "def maximum_and_minimum_avg(df, access):\n",
    "    \"\"\"\n",
    "    Calculate the mean views for articles in a DataFrame and identify the articles with the maximum and minimum mean views.\n",
    "    \n",
    "    Parameters:\n",
    "    - df (DataFrame): The input DataFrame containing columns 'timestamp', 'article', and 'views'.\n",
    "    - access (str): The access type (e.g., 'desktop' or 'mobile') for labeling data points.\n",
    "\n",
    "    Returns:\n",
    "    - result_df (DataFrame): A DataFrame containing data points for articles with maximum and minimum mean views,\n",
    "      labeled with their respective access type and article name.\n",
    "    \"\"\"\n",
    "\n",
    "    df['timestamp'] = df['timestamp'].astype('str')\n",
    "    df['timestamp'] = pd.to_datetime(df['timestamp'], format = '%Y%m%d%H')\n",
    "    g_data = df.groupby('article').mean('views')\n",
    "    article_max = g_data.loc[g_data['views'].idxmax()].name\n",
    "    article_min = g_data.loc[g_data['views'].idxmin()].name\n",
    "    data_max = df[df['article'] == article_max][['timestamp', 'article', 'views']]\n",
    "    data_min = df[df['article'] == article_min][['timestamp', 'article', 'views']]\n",
    "    data_max['min_max'] = 'max_' + access\n",
    "    data_max['label'] = data_max['min_max'] + '_' + data_max['article'] \n",
    "    data_min['min_max'] = 'min_' + access\n",
    "    data_min['label'] = data_min['min_max'] + '_' + data_min['article']\n",
    "    result_df = pd.concat([data_max, data_min])\n",
    "    return result_df"
   ]
  },
  {
   "cell_type": "markdown",
   "metadata": {},
   "source": [
    "- We invoke the aforementioned function for both mobile and desktop, and configure the timestamp as the primary index."
   ]
  },
  {
   "cell_type": "code",
   "execution_count": 5,
   "metadata": {},
   "outputs": [],
   "source": [
    "desktop_main = maximum_and_minimum_avg(desktop_df, access='desktop')\n",
    "mobile_main = maximum_and_minimum_avg(mobile_df, access='mobile')\n",
    "df_main = pd.concat([desktop_main, mobile_main])\n",
    "df_main = df_main.set_index('timestamp')"
   ]
  },
  {
   "cell_type": "markdown",
   "metadata": {},
   "source": [
    "- Visualizing the data in the \"df_main\" dataframe, which encompasses the minimum and maximum average monthly article views for both mobile and desktop access, we can create separate dataframes for different aspects:\n",
    "    1. \"df_1a\" to represent the average maximum views for desktop access.\n",
    "    2. \"df_1b\" to represent the average minimum views for desktop access.\n",
    "    3. \"df_2a\" to denote the average maximum views for mobile access.\n",
    "    4. \"df_2b\" to denote the average minimum views for mobile access.\n",
    "\n",
    "\n",
    "- Finally, we display and save the image as a .png to be exported"
   ]
  },
  {
   "cell_type": "code",
   "execution_count": 6,
   "metadata": {},
   "outputs": [
    {
     "data": {
      "text/plain": [
       "<Figure size 432x288 with 0 Axes>"
      ]
     },
     "metadata": {},
     "output_type": "display_data"
    }
   ],
   "source": [
    "fig2a = plt.gcf()\n",
    "plt.figure(figsize = (25,10), dpi = 720)\n",
    "df_1a = df_main[df_main['min_max']=='max_desktop']\n",
    "df_1a['views'].plot(label = df_1a['label'].unique()[0], color = 'teal')\n",
    "df_1b = df_main[df_main['min_max']=='min_desktop']\n",
    "df_1b['views'].plot(label = df_1b['label'].unique()[0], color = 'turquoise')\n",
    "df_2a = df_main[df_main['min_max']=='max_mobile']\n",
    "df_2a['views'].plot(label = df_2a['label'].unique()[0], color = 'maroon')\n",
    "df_2b = df_main[df_main['min_max']=='min_mobile']\n",
    "df_2b['views'].plot(label = df_2b['label'].unique()[0], color = 'lightpink')\n",
    "plt.title('Maximum Average and Minimum Average')\n",
    "plt.xlabel('Time')\n",
    "plt.ylabel('Views')\n",
    "plt.legend()\n",
    "plt.savefig(os.path.join(RELATIVE_PATH_NOTATION, RESULTS, \"Max_Min_Average_plot.png\"))\n",
    "plt.close()"
   ]
  },
  {
   "cell_type": "markdown",
   "metadata": {},
   "source": [
    "## 2.ii. Top 10 Peak Page Views\n",
    "\n",
    "The second graph should contain time series for the top 10 article pages by largest (peak) page views over the entire time by access type. You first find the month for each article that contains the highest (peak) page views, and then order the articles by these peak values. Your graph should contain the top 10 for desktop and top 10 for mobile access (20 lines).\n",
    "- We determine the highest value achieved among all articles and identify the corresponding month when this peak occurred.\n",
    "\n",
    "- And then, organize these findings in a ranked order, selecting only the top 10 results for both mobile and desktop platforms, resulting in a total of 20 trend lines."
   ]
  },
  {
   "cell_type": "code",
   "execution_count": 7,
   "metadata": {},
   "outputs": [],
   "source": [
    "def top_10_peak_page_views(df, access):\n",
    "    \"\"\"\n",
    "    Extracts the top 10 articles with the highest views for a given access type and\n",
    "    returns a modified dataframe containing these top articles with additional information.\n",
    "\n",
    "    Parameters:\n",
    "        df (DataFrame): The input dataframe containing article data.\n",
    "        access (str): The access type for which the top articles should be extracted.\n",
    "\n",
    "    Returns:\n",
    "        DataFrame: A dataframe containing the top 10 articles for the specified access type\n",
    "        along with additional information like the timestamp, access type, and views.\n",
    "    \"\"\"\n",
    "\n",
    "    group_df = df.groupby('article').max('views').reset_index()\n",
    "    group_df = group_df.sort_values(by='views', ascending=False)\n",
    "    only_top10 = group_df.head(10)\n",
    "    only_top10 = only_top10[['article']].reset_index()\n",
    "    only_top10 = only_top10.drop('index', axis=1)\n",
    "    only_top10['rank'] = pd.Series(np.arange(1,11))\n",
    "    df['access'] = access\n",
    "    df = df[['timestamp', 'article', 'access', 'views']]\n",
    "    df = df.merge(only_top10, on='article', how='inner', suffixes=('_left', '_right'))\n",
    "    df['label'] = 'top_' + df['rank'].astype('str') + access + '_' + df['article']\n",
    "    return df"
   ]
  },
  {
   "cell_type": "markdown",
   "metadata": {},
   "source": [
    "- We invoke the function provided above with \"mobile\" and \"desktop\" as access types, followed by consolidating both datasets into a single dataframe to facilitate more convenient visualization."
   ]
  },
  {
   "cell_type": "code",
   "execution_count": 8,
   "metadata": {},
   "outputs": [],
   "source": [
    "top_desktop = top_10_peak_page_views(desktop_df, 'desktop')\n",
    "top_mobile = top_10_peak_page_views(mobile_df, 'mobile')\n",
    "df_final = pd.concat([top_desktop, top_mobile])\n",
    "df_final = df_final.set_index('timestamp')"
   ]
  },
  {
   "cell_type": "markdown",
   "metadata": {},
   "source": [
    "- We iterate through a loop to generate plots for the top 10 entries in the previously generated dataframe for both access types, resulting in a total of 20 trend lines.\n",
    "\n",
    "- Finally, we display and save the image as a .png to be exported"
   ]
  },
  {
   "cell_type": "code",
   "execution_count": 9,
   "metadata": {},
   "outputs": [
    {
     "data": {
      "text/plain": [
       "<Figure size 432x288 with 0 Axes>"
      ]
     },
     "metadata": {},
     "output_type": "display_data"
    }
   ],
   "source": [
    "fig2b = plt.gcf()\n",
    "plt.figure(figsize = (25,10), dpi = 720)\n",
    "for i in range(1,11):\n",
    "    df = df_final[df_final['rank'] == i]\n",
    "    df[df['access'] == 'desktop']['views'].plot(label=df['label'].unique()[0])\n",
    "    df[df['access'] == 'mobile']['views'].plot(label=df['label'].unique()[1])\n",
    "plt.title('Top 10 Peak Page Views')\n",
    "plt.xlabel('Time')\n",
    "plt.ylabel('Views')\n",
    "plt.legend()\n",
    "plt.savefig(os.path.join(RELATIVE_PATH_NOTATION, RESULTS, \"Top_10_Peak_Page_Views_plot.png\"))\n",
    "plt.close()"
   ]
  },
  {
   "cell_type": "markdown",
   "metadata": {},
   "source": [
    "## 2.iii. Fewest Months of Data\n",
    "The third graph should show pages that have the fewest months of available data. These will all be relatively short time series and should contain a set of the most recent academy award winners. Your graph should show the 10 articles with the fewest months of data for desktop access and the 10 articles with the fewest months of data for mobile access.\n",
    "- Let's begin by examining the timestamp's duration for each article and for each access instance.\n",
    "\n",
    "- Next, we identify the ten items with the lowest counts, arranging them in ascending order, and subsequently assigning ranks based on this order.\n",
    "\n",
    "- And then, we generate a labeling column to facilitate the creation of visualizations."
   ]
  },
  {
   "cell_type": "code",
   "execution_count": 10,
   "metadata": {},
   "outputs": [],
   "source": [
    "def fewest_df(df, access):\n",
    "    \"\"\"\n",
    "    Create a DataFrame with the top 10 articles with the fewest views\n",
    "    for a specific access type and join it with the original DataFrame.\n",
    "\n",
    "    Parameters:\n",
    "    - df (DataFrame): The input DataFrame containing article view data.\n",
    "    - access (str): The access type for which to find the top 10 articles.\n",
    "\n",
    "    Returns:\n",
    "    - df (DataFrame): A modified DataFrame with the top 10 articles with the fewest views\n",
    "      for the specified access type, including a 'label' column.\n",
    "    \"\"\"\n",
    "\n",
    "    few_df = df.groupby(\"article\").count().reset_index()\n",
    "    few_df = few_df[['article', 'views']]\n",
    "    few_df = few_df.sort_values(by='views', ascending=True)\n",
    "    top_10 = few_df.head(10)\n",
    "    top_10 = top_10[['article']].reset_index()\n",
    "    top_10 = top_10.drop('index', axis = 1)\n",
    "    top_10['rank'] = pd.Series(np.arange(1,11))\n",
    "    df['access'] = access\n",
    "    df = df[['timestamp', 'article', 'access', 'views']]\n",
    "    df = df.merge(top_10, on='article', how='inner', suffixes=('_left', '_right'))\n",
    "    df['label'] = 'fewest_' + df['rank'].astype('str') + access + '_' + df['article']\n",
    "    return df"
   ]
  },
  {
   "cell_type": "markdown",
   "metadata": {},
   "source": [
    "- We invoke the function above with \"mobile\" and \"desktop\" as access types, subsequently consolidating them into a single dataframe to facilitate more convenient data visualization."
   ]
  },
  {
   "cell_type": "code",
   "execution_count": 11,
   "metadata": {},
   "outputs": [],
   "source": [
    "top_desktop = fewest_df(desktop_df, 'desktop')\n",
    "top_mobile = fewest_df(mobile_df, 'mobile')\n",
    "df_final = pd.concat([top_desktop, top_mobile])\n",
    "df_final = df_final.set_index('timestamp')"
   ]
  },
  {
   "cell_type": "markdown",
   "metadata": {},
   "source": [
    "- We execute a loop to generate plots for the top 10 entries in the previously generated dataframe, separately for each access type, resulting in a total of 20 trend lines.\n",
    "- Finally, we display and save the image as a .png to be exported"
   ]
  },
  {
   "cell_type": "code",
   "execution_count": 12,
   "metadata": {},
   "outputs": [
    {
     "data": {
      "text/plain": [
       "<Figure size 432x288 with 0 Axes>"
      ]
     },
     "metadata": {},
     "output_type": "display_data"
    }
   ],
   "source": [
    "fig2c = plt.gcf()\n",
    "plt.figure(figsize = (25,10), dpi = 720)\n",
    "for i in range(1,11):\n",
    "    df = df_final[df_final['rank'] == i]\n",
    "    df[df['access'] == 'desktop']['views'].plot(label=df['label'].unique()[0])\n",
    "    df[df['access'] == 'mobile']['views'].plot(label=df['label'].unique()[1])\n",
    "plt.title('Fewest Months of Data')\n",
    "plt.xlabel('Time')\n",
    "plt.ylabel('Views')\n",
    "plt.legend()\n",
    "plt.savefig(os.path.join(RELATIVE_PATH_NOTATION, RESULTS, \"Fewest_months_plot.png\"))\n",
    "plt.close()"
   ]
  }
 ],
 "metadata": {
  "kernelspec": {
   "display_name": "Python 3",
   "language": "python",
   "name": "python3"
  },
  "language_info": {
   "codemirror_mode": {
    "name": "ipython",
    "version": 3
   },
   "file_extension": ".py",
   "mimetype": "text/x-python",
   "name": "python",
   "nbconvert_exporter": "python",
   "pygments_lexer": "ipython3",
   "version": "3.8.3"
  }
 },
 "nbformat": 4,
 "nbformat_minor": 4
}
